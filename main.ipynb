{
 "cells": [
  {
   "cell_type": "code",
   "execution_count": 1,
   "metadata": {
    "collapsed": false
   },
   "outputs": [
    {
     "name": "stdout",
     "output_type": "stream",
     "text": [
      "importing Jupyter notebook from Classic.ipynb\n",
      "importing Jupyter notebook from Subsetselection.ipynb\n",
      "importing Jupyter notebook from k2k_hadamard.ipynb\n"
     ]
    }
   ],
   "source": [
    "import Ipynb_importer\n",
    "import Classic\n",
    "import Subsetselection\n",
    "import k2k_hadamard\n",
    "import timeit\n",
    "\n",
    "import numpy as np\n",
    "import random\n",
    "import math\n",
    "import matplotlib.pyplot as plt\n",
    "\n",
    "def generate_geometric_distribution(k,lbd):\n",
    "    elements = range(0,k)\n",
    "    prob = [(1-lbd)*math.pow(lbd,x)/(1-math.pow(lbd,k)) for x in elements] # geometric dist\n",
    "    return prob\n",
    "\n",
    "def generate_uniform_distribution(k):\n",
    "    raw_distribution = [1] * k\n",
    "    sum_raw = sum(raw_distribution)\n",
    "    prob = [float(y)/float(sum_raw) for y in raw_distribution]\n",
    "    return prob\n",
    "\n",
    "def generate_two_steps_distribution(k):\n",
    "    raw_distribution = [1] * int(k/2) + [3] * int(k/2)\n",
    "    sum_raw = sum(raw_distribution)\n",
    "    prob = [float(y)/float(sum_raw) for y in raw_distribution]\n",
    "    return prob\n",
    "\n",
    "def generate_Zipf_distribution(k,lbd):\n",
    "    raw_distribution = [1/(float(i)**(klbd)) for i in range(1,k+1)]\n",
    "    sum_raw = sum(raw_distribution)\n",
    "    prob = [float(y)/float(sum_raw) for y in raw_distribution]\n",
    "    return prob\n",
    "\n",
    "def generate_Dirichlet_distribution(k,lbd):  \n",
    "    raw_distribution = [0] * k\n",
    "    for i in range(0,k):\n",
    "        raw_distribution[i] = np.random.gamma(1,1)\n",
    "    sum_raw = sum(raw_distribution)\n",
    "    prob = [float(y)/float(sum_raw) for y in raw_distribution]\n",
    "    return prob"
   ]
  },
  {
   "cell_type": "code",
   "execution_count": null,
   "metadata": {
    "collapsed": true
   },
   "outputs": [],
   "source": [
    "k = 100 #absz\n",
    "n = 1000000\n",
    "eps = 1 # privacy_para\n",
    "\n",
    "# prob = generate_geometric_distribution(k,0.8)\n",
    "# prob = generate_uniform_distribution(k)\n",
    "prob = generate_two_steps_distribution(k)\n",
    "# prob = generate_Zipf_distribution(k,1.0)\n",
    "# prob = generate_Dirchlet_distribution(k,1.0)\n",
    "\n",
    "elements = range(0,k)\n",
    "in_list = np.random.choice(elements, n, p=prob) #input symbols"
   ]
  },
  {
   "cell_type": "code",
   "execution_count": null,
   "metadata": {
    "collapsed": false
   },
   "outputs": [],
   "source": [
    "# Subsetselection\n",
    "a = Subsetselection.Subsetselection(k,eps) \n",
    "#print (a.partsz)\n",
    "#print (elements.type)\n",
    "# print(type(in_list[9]))\n",
    "outp = a.encode_string(in_list)\n",
    "prob_est = a.decode_string(outp,n) # estimate the original underlying distribution\n",
    "plt.plot(elements,prob)\n",
    "plt.plot(elements,prob_est)\n",
    "#plt.plot(prob_est)\n",
    "print (\"l1 distance: \", str(np.linalg.norm([a_i - b_i for a_i, b_i in zip(prob, prob_est)], ord=1)))\n",
    "print (\"prob_sum: \", str(sum(prob_est)))"
   ]
  },
  {
   "cell_type": "code",
   "execution_count": null,
   "metadata": {
    "collapsed": false
   },
   "outputs": [],
   "source": [
    "# k-rr\n",
    "sample = Classic.randomized_response_encoder(in_list, eps, k)\n",
    "(outp, temp) = np.histogram(sample,range(k+1))\n",
    "#print outp\n",
    "prob_est = Classic.normalized_standard_rr_decoder(outp,eps,n) # estimate the original underlying distribution\n",
    "plt.plot(elements,prob)\n",
    "plt.plot(elements,prob_est)\n",
    "#plt.plot(prob_est)\n",
    "print (\"l1 distance: \", str(np.linalg.norm([a_i - b_i for a_i, b_i in zip(prob, prob_est)], ord=1)))\n",
    "print (\"prob_sum: \", str(sum(prob_est)))"
   ]
  },
  {
   "cell_type": "code",
   "execution_count": null,
   "metadata": {
    "collapsed": false
   },
   "outputs": [],
   "source": [
    "# k-rappor\n",
    "sample = Classic.rappor_encoder(in_list, eps, k)\n",
    "outp = np.sum(sample, axis=0)\n",
    "prob_est = Classic.normalized_standard_rappor_decoder(outp,eps,n) # estimate the original underlying distribution\n",
    "plt.plot(elements,prob)\n",
    "plt.plot(elements,prob_est)\n",
    "#plt.plot(prob_est)\n",
    "print (\"l1 distance: \", str(np.linalg.norm([a_i - b_i for a_i, b_i in zip(prob, prob_est)], ord=1)))\n",
    "print (\"prob_sum: \", str(sum(prob_est)))"
   ]
  },
  {
   "cell_type": "code",
   "execution_count": null,
   "metadata": {
    "collapsed": false
   },
   "outputs": [],
   "source": [
    "b = k2k_hadamard.Hadamard_Rand_2(k,eps) \n",
    "#print (a.partsz)\n",
    "#print (elements.type)\n",
    "# print(type(in_list[9]))\n",
    "outp = b.encode_string(in_list)\n",
    "#print outp\n",
    "prob_est = b.decode_string(outp) # estimate the original underlying distribution\n",
    "plt.plot(elements,prob)\n",
    "plt.plot(elements,prob_est)\n",
    "#plt.plot(prob_est)\n",
    "print (\"l1 distance: \", str(np.linalg.norm([a_i - b_i for a_i, b_i in zip(prob, prob_est)], ord=1)))\n",
    "print (\"prob_sum: \", str(sum(prob_est)))"
   ]
  },
  {
   "cell_type": "code",
   "execution_count": 4,
   "metadata": {
    "collapsed": false
   },
   "outputs": [
    {
     "name": "stdout",
     "output_type": "stream",
     "text": [
      "2\n",
      "0\n",
      "1\n"
     ]
    },
    {
     "ename": "IndexError",
     "evalue": "list assignment index out of range",
     "output_type": "error",
     "traceback": [
      "\u001b[0;31m---------------------------------------------------------------------------\u001b[0m",
      "\u001b[0;31mIndexError\u001b[0m                                Traceback (most recent call last)",
      "\u001b[0;32m<ipython-input-4-9da4cfdce751>\u001b[0m in \u001b[0;36m<module>\u001b[0;34m()\u001b[0m\n\u001b[1;32m     67\u001b[0m         \u001b[0mcount4\u001b[0m \u001b[0;34m=\u001b[0m \u001b[0mcount4\u001b[0m \u001b[0;34m+\u001b[0m \u001b[0mnp\u001b[0m\u001b[0;34m.\u001b[0m\u001b[0mlinalg\u001b[0m\u001b[0;34m.\u001b[0m\u001b[0mnorm\u001b[0m\u001b[0;34m(\u001b[0m\u001b[0;34m[\u001b[0m\u001b[0ma_i\u001b[0m \u001b[0;34m-\u001b[0m \u001b[0mb_i\u001b[0m \u001b[0;32mfor\u001b[0m \u001b[0ma_i\u001b[0m\u001b[0;34m,\u001b[0m \u001b[0mb_i\u001b[0m \u001b[0;32min\u001b[0m \u001b[0mzip\u001b[0m\u001b[0;34m(\u001b[0m\u001b[0mprob\u001b[0m\u001b[0;34m,\u001b[0m \u001b[0mprob_est_4\u001b[0m\u001b[0;34m)\u001b[0m\u001b[0;34m]\u001b[0m\u001b[0;34m,\u001b[0m \u001b[0mord\u001b[0m\u001b[0;34m=\u001b[0m\u001b[0;36m1\u001b[0m\u001b[0;34m)\u001b[0m\u001b[0;34m\u001b[0m\u001b[0m\n\u001b[1;32m     68\u001b[0m \u001b[0;34m\u001b[0m\u001b[0m\n\u001b[0;32m---> 69\u001b[0;31m     \u001b[0ml1_1\u001b[0m\u001b[0;34m[\u001b[0m\u001b[0mr\u001b[0m\u001b[0;34m-\u001b[0m\u001b[0;36m1\u001b[0m\u001b[0;34m]\u001b[0m \u001b[0;34m=\u001b[0m \u001b[0mcount1\u001b[0m\u001b[0;34m/\u001b[0m\u001b[0mfloat\u001b[0m\u001b[0;34m(\u001b[0m\u001b[0mrep\u001b[0m\u001b[0;34m)\u001b[0m\u001b[0;34m\u001b[0m\u001b[0m\n\u001b[0m\u001b[1;32m     70\u001b[0m     \u001b[0ml1_2\u001b[0m\u001b[0;34m[\u001b[0m\u001b[0mr\u001b[0m\u001b[0;34m-\u001b[0m\u001b[0;36m1\u001b[0m\u001b[0;34m]\u001b[0m \u001b[0;34m=\u001b[0m \u001b[0mcount2\u001b[0m\u001b[0;34m/\u001b[0m\u001b[0mfloat\u001b[0m\u001b[0;34m(\u001b[0m\u001b[0mrep\u001b[0m\u001b[0;34m)\u001b[0m\u001b[0;34m\u001b[0m\u001b[0m\n\u001b[1;32m     71\u001b[0m     \u001b[0ml1_3\u001b[0m\u001b[0;34m[\u001b[0m\u001b[0mr\u001b[0m\u001b[0;34m-\u001b[0m\u001b[0;36m1\u001b[0m\u001b[0;34m]\u001b[0m \u001b[0;34m=\u001b[0m \u001b[0mcount3\u001b[0m\u001b[0;34m/\u001b[0m\u001b[0mfloat\u001b[0m\u001b[0;34m(\u001b[0m\u001b[0mrep\u001b[0m\u001b[0;34m)\u001b[0m\u001b[0;34m\u001b[0m\u001b[0m\n",
      "\u001b[0;31mIndexError\u001b[0m: list assignment index out of range"
     ]
    }
   ],
   "source": [
    "k = 10000 #absz\n",
    "eps = 1 # privacy_para\n",
    "a = Subsetselection.Subsetselection(k,eps)\n",
    "b = k2k_hadamard.Hadamard_Rand_2(k,eps)\n",
    "#prob = generate_geometric_distribution(k,0.8)\n",
    "\n",
    "rep = 2\n",
    "points = 1 \n",
    "step_sz = 4000\n",
    "init = 2\n",
    "indecies = [(init-1+i)*step_sz for i in range(1,points+1) ]\n",
    "\n",
    "# prob = generate_uniform_distribution(k)\n",
    "prob = generate_two_steps_distribution(k)\n",
    "# prob = generate_Zipf_distribution(k,1.0)\n",
    "# prob = generate_Dirchlet_distribution(k,1.0)\n",
    "l1_1 = [0]*points\n",
    "l1_2 = [0]*points\n",
    "l1_3 = [0]*points\n",
    "l1_4 = [0]*points\n",
    "\n",
    "t1_1 = [0]*points\n",
    "t1_2 = [0]*points\n",
    "t1_3 = [0]*points\n",
    "t1_4 = [0]*points\n",
    "\n",
    "for r in range(init, points + init):\n",
    "    print(r)\n",
    "    n = r*step_sz\n",
    "    count1 = 0\n",
    "    count2 = 0\n",
    "    count3 = 0\n",
    "    count4 = 0\n",
    "    t1 = 0\n",
    "    t2 = 0\n",
    "    t3 = 0\n",
    "    t4 = 0\n",
    "    for t in range(0,rep):\n",
    "        print(t)\n",
    "        elements = range(0,k)\n",
    "        in_list = np.random.choice(elements, n, p=prob) #input symbols\n",
    "        \n",
    "        outp_1 = a.encode_string(in_list) #subset selection\n",
    "        start_time = timeit.default_timer()\n",
    "        prob_est_1 = a.decode_string(outp_1,n) # estimate the original underlying distribution\n",
    "        t1 = t1 + timeit.default_timer() - start_time\n",
    "        count1 = count1 + np.linalg.norm([a_i - b_i for a_i, b_i in zip(prob, prob_est_1)], ord=1)       \n",
    "\n",
    "        sample = Classic.randomized_response_encoder(in_list, eps, k) # krr\n",
    "        start_time = timeit.default_timer()\n",
    "        (outp_2, temp) = np.histogram(sample,range(k+1))\n",
    "        prob_est_2 = Classic.normalized_standard_rr_decoder(outp_2,eps,n) # estimate the original underlying distribution\n",
    "        t2 = t2 + timeit.default_timer() - start_time\n",
    "        count2 = count2 + np.linalg.norm([a_i - b_i for a_i, b_i in zip(prob, prob_est_2)], ord=1) \n",
    "        \n",
    "        sample = Classic.rappor_encoder(in_list, eps, k) #k-RAPPOR\n",
    "        start_time = timeit.default_timer()\n",
    "        outp_3 = np.sum(sample, axis=0)\n",
    "        prob_est_3 = Classic.normalized_standard_rappor_decoder(outp_3,eps,n) # estimate the original underlying distribution\n",
    "        t3 = t3 + timeit.default_timer() - start_time\n",
    "        count3 = count3 + np.linalg.norm([a_i - b_i for a_i, b_i in zip(prob, prob_est_3)], ord=1) \n",
    "        \n",
    "        outp_4 = b.encode_string(in_list) #k-HR\n",
    "        start_time = timeit.default_timer()\n",
    "        prob_est_4 = b.decode_string(outp_4) # estimate the original underlying distribution\n",
    "        t4 = t4 + timeit.default_timer() - start_time\n",
    "        count4 = count4 + np.linalg.norm([a_i - b_i for a_i, b_i in zip(prob, prob_est_4)], ord=1) \n",
    "        \n",
    "    l1_1[r-1] = count1/float(rep)\n",
    "    l1_2[r-1] = count2/float(rep)\n",
    "    l1_3[r-1] = count3/float(rep)\n",
    "    l1_4[r-1] = count4/float(rep)\n",
    "    t1_1[r-1] = t1/float(rep)\n",
    "    t1_2[r-1] = t2/float(rep)\n",
    "    t1_3[r-1] = t3/float(rep)\n",
    "    t1_4[r-1] = t4/float(rep)\n",
    "plt.plot(l1_1, label = 'subset')\n",
    "plt.plot(l1_2, label = 'rr')\n",
    "plt.plot(l1_3, label = 'rappor')\n",
    "plt.plot(l1_4, label = 'hr')\n",
    "plt.legend()"
   ]
  },
  {
   "cell_type": "code",
   "execution_count": null,
   "metadata": {
    "collapsed": false
   },
   "outputs": [],
   "source": [
    "plt.plot(l1_1[1:43], label = 'subset')\n",
    "plt.plot(l1_2[1:43], label = 'rr')\n",
    "plt.plot(l1_3[1:43], label = 'rappor')\n",
    "plt.plot(l1_4[1:43], label = 'hr')\n",
    "plt.legend()"
   ]
  },
  {
   "cell_type": "code",
   "execution_count": 5,
   "metadata": {
    "collapsed": false
   },
   "outputs": [
    {
     "name": "stdout",
     "output_type": "stream",
     "text": [
      "340.068562977\n",
      "2.49149247319\n",
      "2.37536120106\n",
      "nan\n",
      "0.309820890427\n",
      "0.00495290756226\n",
      "0.216153383255\n",
      "16.4421718121\n"
     ]
    },
    {
     "data": {
      "text/plain": [
       "[0]"
      ]
     },
     "execution_count": 5,
     "metadata": {},
     "output_type": "execute_result"
    }
   ],
   "source": [
    "print(count1)\n",
    "print(count2)\n",
    "print(count3)\n",
    "print(count4)\n",
    "print(t1)\n",
    "print(t2)\n",
    "print(t3)\n",
    "print(t4)\n",
    "l1_1"
   ]
  },
  {
   "cell_type": "code",
   "execution_count": null,
   "metadata": {
    "collapsed": false
   },
   "outputs": [],
   "source": [
    "plt.plot(t1_1[1:43], label = 'subset')\n",
    "plt.plot(t1_2[1:43], label = 'rr')\n",
    "plt.plot(t1_3[1:43], label = 'rappor')\n",
    "plt.plot(t1_4[1:43], label = 'hr')\n",
    "plt.legend()"
   ]
  },
  {
   "cell_type": "code",
   "execution_count": null,
   "metadata": {
    "collapsed": true
   },
   "outputs": [],
   "source": []
  }
 ],
 "metadata": {
  "anaconda-cloud": {},
  "kernelspec": {
   "display_name": "Python [Root]",
   "language": "python",
   "name": "Python [Root]"
  },
  "language_info": {
   "codemirror_mode": {
    "name": "ipython",
    "version": 2
   },
   "file_extension": ".py",
   "mimetype": "text/x-python",
   "name": "python",
   "nbconvert_exporter": "python",
   "pygments_lexer": "ipython2",
   "version": "2.7.12"
  }
 },
 "nbformat": 4,
 "nbformat_minor": 2
}
