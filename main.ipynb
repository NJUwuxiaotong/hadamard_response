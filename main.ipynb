{
 "cells": [
  {
   "cell_type": "code",
   "execution_count": 1,
   "metadata": {
    "collapsed": false
   },
   "outputs": [
    {
     "name": "stdout",
     "output_type": "stream",
     "text": [
      "importing Jupyter notebook from Classic.ipynb\n",
      "importing Jupyter notebook from Subsetselection.ipynb\n",
      "importing Jupyter notebook from k2k_hadamard.ipynb\n"
     ]
    }
   ],
   "source": [
    "import Ipynb_importer\n",
    "import Classic\n",
    "import Subsetselection\n",
    "import k2k_hadamard\n",
    "import timeit\n",
    "import scipy.io as io\n",
    "import datetime\n",
    "\n",
    "import numpy as np\n",
    "import random\n",
    "import math\n",
    "import matplotlib.pyplot as plt\n",
    "import scipy.io as io\n",
    "\n",
    "def generate_geometric_distribution(k,lbd):\n",
    "    elements = range(0,k)\n",
    "    prob = [(1-lbd)*math.pow(lbd,x)/(1-math.pow(lbd,k)) for x in elements] # geometric dist\n",
    "    return prob\n",
    "\n",
    "def generate_uniform_distribution(k):\n",
    "    raw_distribution = [1] * k\n",
    "    sum_raw = sum(raw_distribution)\n",
    "    prob = [float(y)/float(sum_raw) for y in raw_distribution]\n",
    "    return prob\n",
    "\n",
    "def generate_two_steps_distribution(k):\n",
    "    raw_distribution = [1] * int(k/2) + [3] * int(k/2)\n",
    "    sum_raw = sum(raw_distribution)\n",
    "    prob = [float(y)/float(sum_raw) for y in raw_distribution]\n",
    "    return prob\n",
    "\n",
    "def generate_Zipf_distribution(k,lbd):\n",
    "    raw_distribution = [1/(float(i)**(lbd)) for i in range(1,k+1)]\n",
    "    sum_raw = sum(raw_distribution)\n",
    "    prob = [float(y)/float(sum_raw) for y in raw_distribution]\n",
    "    return prob\n",
    "\n",
    "def generate_Dirichlet_distribution(k,lbd):  \n",
    "    raw_distribution = [0] * k\n",
    "    for i in range(0,k):\n",
    "        raw_distribution[i] = np.random.gamma(1,1)\n",
    "    sum_raw = sum(raw_distribution)\n",
    "    prob = [float(y)/float(sum_raw) for y in raw_distribution]\n",
    "    return prob"
   ]
  },
  {
   "cell_type": "code",
   "execution_count": 2,
   "metadata": {
    "collapsed": true
   },
   "outputs": [],
   "source": [
    "def test(k,eps,rep,points,step_sz,init,dist):  \n",
    "    print(k)\n",
    "    print(eps)\n",
    "    indicies = [(init-1+i)*step_sz for i in range(1,points+1) ] # all the indicies\n",
    "    a = Subsetselection.Subsetselection(k,eps) #class for subset selection algorithm\n",
    "    b = k2k_hadamard.Hadamard_Rand_2(k,eps) #class for hadamard response\n",
    "    prob1 = generate_uniform_distribution(k)\n",
    "    prob2 = generate_two_steps_distribution(k)\n",
    "    prob3 = generate_Zipf_distribution(k,1.0)\n",
    "    prob4 = generate_Dirichlet_distribution(k,1.0)\n",
    "    prob5 = generate_geometric_distribution(k,0.8)\n",
    "\n",
    "    prob_list = {\n",
    "        'Uniform' : prob1,\n",
    "        'Two_steps' : prob2,\n",
    "        'Zipf' : prob3,\n",
    "        'Dirchlet' : prob4,\n",
    "        'Geometric' : prob5, \n",
    "        }\n",
    "\n",
    "    prob = prob_list[dist]\n",
    "\n",
    "    l1_1 = [0]*points\n",
    "    l1_2 = [0]*points\n",
    "    l1_3 = [0]*points\n",
    "    l1_4 = [0]*points\n",
    "    \n",
    "    l2_1 = [0]*points\n",
    "    l2_2 = [0]*points\n",
    "    l2_3 = [0]*points\n",
    "    l2_4 = [0]*points\n",
    "\n",
    "    t1_1 = [0]*points\n",
    "    t1_2 = [0]*points\n",
    "    t1_3 = [0]*points\n",
    "    t1_4 = [0]*points\n",
    "\n",
    "    for r in range(init, points + init):\n",
    "        print(r)\n",
    "        n = r*step_sz\n",
    "        count1 = 0\n",
    "        count2 = 0\n",
    "        count3 = 0\n",
    "        count4 = 0\n",
    "        count2_1 = 0\n",
    "        count2_2 = 0\n",
    "        count2_3 = 0\n",
    "        count2_4 = 0\n",
    "        t1 = 0\n",
    "        t2 = 0\n",
    "        t3 = 0\n",
    "        t4 = 0\n",
    "        for t in range(0,rep):\n",
    "            #print(t)\n",
    "            elements = range(0,k)\n",
    "            in_list = np.random.choice(elements, n, p=prob) #input symbols\n",
    "\n",
    "            outp_1 = a.encode_string_fast(in_list) #subset selection\n",
    "            start_time = timeit.default_timer()\n",
    "            prob_est_1 = a.decode_string(outp_1,n) # estimate the original underlying distribution\n",
    "            t1 = t1 + timeit.default_timer() - start_time\n",
    "            count1 = count1 + np.linalg.norm([a_i - b_i for a_i, b_i in zip(prob, prob_est_1)], ord=1) \n",
    "            count2_1 = count2_1 + np.linalg.norm([a_i - b_i for a_i, b_i in zip(prob, prob_est_1)], ord=2)**2\n",
    "\n",
    "            sample = Classic.randomized_response_encoder(in_list, eps, k) # krr\n",
    "            start_time = timeit.default_timer()\n",
    "            (outp_2, temp) = np.histogram(sample,range(k+1))\n",
    "            prob_est_2 = Classic.normalized_standard_rr_decoder(outp_2,eps,n) # estimate the original underlying distribution\n",
    "            t2 = t2 + timeit.default_timer() - start_time\n",
    "            count2 = count2 + np.linalg.norm([a_i - b_i for a_i, b_i in zip(prob, prob_est_2)], ord=1) \n",
    "            count2_2 = count2_2 + np.linalg.norm([a_i - b_i for a_i, b_i in zip(prob, prob_est_2)], ord=2)**2\n",
    "\n",
    "            sample = Classic.rappor_encoder(in_list, eps, k) #k-RAPPOR\n",
    "            start_time = timeit.default_timer()\n",
    "            outp_3 = np.sum(sample, axis=0)\n",
    "            prob_est_3 = Classic.normalized_standard_rappor_decoder(outp_3,eps,n) # estimate the original underlying distribution\n",
    "            t3 = t3 + timeit.default_timer() - start_time\n",
    "            count3 = count3 + np.linalg.norm([a_i - b_i for a_i, b_i in zip(prob, prob_est_3)], ord=1) \n",
    "            count2_3 = count2_3 + np.linalg.norm([a_i - b_i for a_i, b_i in zip(prob, prob_est_3)], ord=2)**2\n",
    "\n",
    "            outp_4 = b.encode_string_fast(in_list) #k-HR\n",
    "            start_time = timeit.default_timer()\n",
    "            prob_est_4 = b.decode_string_fast(outp_4) # estimate the original underlying distribution\n",
    "            t4 = t4 + timeit.default_timer() - start_time\n",
    "            count4 = count4 + np.linalg.norm([a_i - b_i for a_i, b_i in zip(prob, prob_est_4)], ord=1) \n",
    "            count2_4 = count2_4 + np.linalg.norm([a_i - b_i for a_i, b_i in zip(prob, prob_est_4)], ord=2)**2\n",
    "\n",
    "        l1_1[r-1] = count1/float(rep)\n",
    "        l1_2[r-1] = count2/float(rep)\n",
    "        l1_3[r-1] = count3/float(rep)\n",
    "        l1_4[r-1] = count4/float(rep)\n",
    "        \n",
    "        l2_1[r-1] = count2_1/float(rep)\n",
    "        l2_2[r-1] = count2_2/float(rep)\n",
    "        l2_3[r-1] = count2_3/float(rep)\n",
    "        l2_4[r-1] = count2_4/float(rep)\n",
    "        \n",
    "        t1_1[r-1] = t1/float(rep)\n",
    "        t1_2[r-1] = t2/float(rep)\n",
    "        t1_3[r-1] = t3/float(rep)\n",
    "        t1_4[r-1] = t4/float(rep)\n",
    "    plt.figure()\n",
    "    plt.plot(indicies,l1_1, label = 'subset')\n",
    "    plt.plot(indicies,l1_2, label = 'rr')\n",
    "    plt.plot(indicies,l1_3, label = 'rappor')\n",
    "    plt.plot(indicies,l1_4, label = 'hr')\n",
    "    plt.legend()\n",
    "    \n",
    "    plt.figure()\n",
    "    plt.plot(indicies,l2_1, label = 'subset')\n",
    "    plt.plot(indicies,l2_2, label = 'rr')\n",
    "    plt.plot(indicies,l2_3, label = 'rappor')\n",
    "    plt.plot(indicies,l2_4, label = 'hr')\n",
    "    plt.legend()\n",
    "    \n",
    "    plt.figure()\n",
    "    plt.plot(indicies,t1_1, label = 'subset')\n",
    "    plt.plot(indicies,t1_2, label = 'rr')\n",
    "    plt.plot(indicies,t1_3, label = 'rappor')\n",
    "    plt.plot(indicies,t1_4, label = 'hr')\n",
    "    plt.legend()\n",
    "    time = datetime.datetime.now().strftime(\"%m_%d_%H_%M\")\n",
    "    data = {\n",
    "        'time' : time,\n",
    "        'absz' : k,\n",
    "        'privacy' : eps,\n",
    "        'repetition' : rep,\n",
    "        'indices' : indicies, # indices of each point (number of samples)\n",
    "        'subset_error': l1_1, #l1 error for each point\n",
    "        'rr_error': l1_2,\n",
    "        'rappor_error': l1_3,\n",
    "        'hr_error': l1_4,\n",
    "        'subset_error_l2': l2_1, #l2 error for each point\n",
    "        'rr_error_l2': l2_2,\n",
    "        'rappor_error_l2': l2_3,\n",
    "        'hr_error_l2': l2_4,\n",
    "        'subset_time': t1_1, #decoding time for each point\n",
    "        'rr_time': t1_2,\n",
    "        'rappor_time': t1_3,\n",
    "        'hr_time': t1_4,\n",
    "        'prob': prob,\n",
    "        'dist': dist\n",
    "    }\n",
    "    para = 'k_{}_eps_{}_'.format(k,eps)\n",
    "    filename = 'Data/data_' + dist + '_' + para + time\n",
    "    io.savemat(filename,data)\n",
    "    return data"
   ]
  },
  {
   "cell_type": "code",
   "execution_count": 3,
   "metadata": {
    "collapsed": false,
    "scrolled": true
   },
   "outputs": [
    {
     "name": "stdout",
     "output_type": "stream",
     "text": [
      "1000\n",
      "0.5\n",
      "1\n",
      "2\n",
      "3\n"
     ]
    },
    {
     "ename": "KeyboardInterrupt",
     "evalue": "",
     "output_type": "error",
     "traceback": [
      "\u001b[0;31m---------------------------------------------------------------------------\u001b[0m",
      "\u001b[0;31mKeyboardInterrupt\u001b[0m                         Traceback (most recent call last)",
      "\u001b[0;32m<ipython-input-3-b9b769e4b39e>\u001b[0m in \u001b[0;36m<module>\u001b[0;34m()\u001b[0m\n\u001b[1;32m      9\u001b[0m \u001b[0;34m\u001b[0m\u001b[0m\n\u001b[1;32m     10\u001b[0m \u001b[0;32mfor\u001b[0m \u001b[0meps\u001b[0m \u001b[0;32min\u001b[0m \u001b[0;34m[\u001b[0m\u001b[0;36m0.5\u001b[0m\u001b[0;34m,\u001b[0m \u001b[0;36m1\u001b[0m\u001b[0;34m,\u001b[0m \u001b[0;36m2\u001b[0m\u001b[0;34m,\u001b[0m \u001b[0;36m5\u001b[0m\u001b[0;34m,\u001b[0m \u001b[0;36m10\u001b[0m\u001b[0;34m]\u001b[0m\u001b[0;34m:\u001b[0m\u001b[0;34m\u001b[0m\u001b[0m\n\u001b[0;32m---> 11\u001b[0;31m     \u001b[0mdata\u001b[0m \u001b[0;34m=\u001b[0m \u001b[0mtest\u001b[0m\u001b[0;34m(\u001b[0m\u001b[0mk\u001b[0m\u001b[0;34m,\u001b[0m\u001b[0meps\u001b[0m\u001b[0;34m,\u001b[0m\u001b[0mrep\u001b[0m\u001b[0;34m,\u001b[0m\u001b[0mpoints\u001b[0m\u001b[0;34m,\u001b[0m\u001b[0mstep_sz\u001b[0m\u001b[0;34m,\u001b[0m\u001b[0minit\u001b[0m\u001b[0;34m,\u001b[0m\u001b[0mdist\u001b[0m\u001b[0;34m)\u001b[0m\u001b[0;34m\u001b[0m\u001b[0m\n\u001b[0m",
      "\u001b[0;32m<ipython-input-2-f9b1fc0e7ff8>\u001b[0m in \u001b[0;36mtest\u001b[0;34m(k, eps, rep, points, step_sz, init, dist)\u001b[0m\n\u001b[1;32m     71\u001b[0m             \u001b[0mcount2_2\u001b[0m \u001b[0;34m=\u001b[0m \u001b[0mcount2_2\u001b[0m \u001b[0;34m+\u001b[0m \u001b[0mnp\u001b[0m\u001b[0;34m.\u001b[0m\u001b[0mlinalg\u001b[0m\u001b[0;34m.\u001b[0m\u001b[0mnorm\u001b[0m\u001b[0;34m(\u001b[0m\u001b[0;34m[\u001b[0m\u001b[0ma_i\u001b[0m \u001b[0;34m-\u001b[0m \u001b[0mb_i\u001b[0m \u001b[0;32mfor\u001b[0m \u001b[0ma_i\u001b[0m\u001b[0;34m,\u001b[0m \u001b[0mb_i\u001b[0m \u001b[0;32min\u001b[0m \u001b[0mzip\u001b[0m\u001b[0;34m(\u001b[0m\u001b[0mprob\u001b[0m\u001b[0;34m,\u001b[0m \u001b[0mprob_est_2\u001b[0m\u001b[0;34m)\u001b[0m\u001b[0;34m]\u001b[0m\u001b[0;34m,\u001b[0m \u001b[0mord\u001b[0m\u001b[0;34m=\u001b[0m\u001b[0;36m2\u001b[0m\u001b[0;34m)\u001b[0m\u001b[0;34m**\u001b[0m\u001b[0;36m2\u001b[0m\u001b[0;34m\u001b[0m\u001b[0m\n\u001b[1;32m     72\u001b[0m \u001b[0;34m\u001b[0m\u001b[0m\n\u001b[0;32m---> 73\u001b[0;31m             \u001b[0msample\u001b[0m \u001b[0;34m=\u001b[0m \u001b[0mClassic\u001b[0m\u001b[0;34m.\u001b[0m\u001b[0mrappor_encoder\u001b[0m\u001b[0;34m(\u001b[0m\u001b[0min_list\u001b[0m\u001b[0;34m,\u001b[0m \u001b[0meps\u001b[0m\u001b[0;34m,\u001b[0m \u001b[0mk\u001b[0m\u001b[0;34m)\u001b[0m \u001b[0;31m#k-RAPPOR\u001b[0m\u001b[0;34m\u001b[0m\u001b[0m\n\u001b[0m\u001b[1;32m     74\u001b[0m             \u001b[0mstart_time\u001b[0m \u001b[0;34m=\u001b[0m \u001b[0mtimeit\u001b[0m\u001b[0;34m.\u001b[0m\u001b[0mdefault_timer\u001b[0m\u001b[0;34m(\u001b[0m\u001b[0;34m)\u001b[0m\u001b[0;34m\u001b[0m\u001b[0m\n\u001b[1;32m     75\u001b[0m             \u001b[0moutp_3\u001b[0m \u001b[0;34m=\u001b[0m \u001b[0mnp\u001b[0m\u001b[0;34m.\u001b[0m\u001b[0msum\u001b[0m\u001b[0;34m(\u001b[0m\u001b[0msample\u001b[0m\u001b[0;34m,\u001b[0m \u001b[0maxis\u001b[0m\u001b[0;34m=\u001b[0m\u001b[0;36m0\u001b[0m\u001b[0;34m)\u001b[0m\u001b[0;34m\u001b[0m\u001b[0m\n",
      "\u001b[0;32m/Users/ZitengSun/Documents/GitHub/k2k_local_privacy/Classic.ipynb\u001b[0m in \u001b[0;36mrappor_encoder\u001b[0;34m(samples, epsilon, k)\u001b[0m\n",
      "\u001b[0;31mKeyboardInterrupt\u001b[0m: "
     ]
    }
   ],
   "source": [
    "k = 1000 #absz\n",
    "eps = 1 # privacy_para\n",
    "rep = 10 #repetition time for each point\n",
    "points = 100 # total number of points\n",
    "step_sz = 10000 # step size between two points\n",
    "init = 1 #initial step\n",
    "dist = 'Geometric' # name of the distribution, select from below\n",
    "                    #Two_steps, Uniform, Zipf, Dirchlet, Geometric\n",
    "\n",
    "for eps in [0.5, 1, 2, 5, 10]:\n",
    "    data = test(k,eps,rep,points,step_sz,init,dist)"
   ]
  },
  {
   "cell_type": "code",
   "execution_count": null,
   "metadata": {
    "collapsed": false
   },
   "outputs": [],
   "source": [
    "plt.plot(indicies[0:46], l1_1[0:46], label = 'subset')\n",
    "plt.plot(l1_2[1:46], label = 'rr')\n",
    "plt.plot(l1_3[1:46], label = 'rappor')\n",
    "plt.plot(l1_4[1:46], label = 'hr')\n",
    "plt.legend()"
   ]
  },
  {
   "cell_type": "code",
   "execution_count": null,
   "metadata": {
    "collapsed": false
   },
   "outputs": [],
   "source": [
    "plt.plot(t1_1[1:100], label = 'subset')\n",
    "plt.plot(t1_2[1:100], label = 'rr')\n",
    "plt.plot(t1_3[1:100], label = 'rappor')\n",
    "plt.plot(t1_4[1:100], label = 'hr')\n",
    "plt.legend()"
   ]
  },
  {
   "cell_type": "code",
   "execution_count": null,
   "metadata": {
    "collapsed": true
   },
   "outputs": [],
   "source": [
    "k = 100 #absz\n",
    "n = 100000\n",
    "eps = 1 # privacy_para\n",
    "\n",
    "# prob = generate_geometric_distribution(k,0.8)\n",
    "# prob = generate_uniform_distribution(k)\n",
    "prob = generate_two_steps_distribution(k)\n",
    "# prob = generate_Zipf_distribution(k,1.0)\n",
    "# prob = generate_Dirchlet_distribution(k,1.0)\n",
    "\n",
    "elements = range(0,k)\n",
    "in_list = np.random.choice(elements, n, p=prob) #input symbols"
   ]
  },
  {
   "cell_type": "code",
   "execution_count": null,
   "metadata": {
    "collapsed": false
   },
   "outputs": [],
   "source": [
    "# Subsetselection\n",
    "a = Subsetselection.Subsetselection(k,eps) \n",
    "#print (a.partsz)\n",
    "#print (elements.type)\n",
    "# print(type(in_list[9]))\n",
    "outp = a.encode_string(in_list)\n",
    "prob_est = a.decode_string(outp,n) # estimate the original underlying distribution\n",
    "plt.plot(elements,prob)\n",
    "plt.plot(elements,prob_est)\n",
    "#plt.plot(prob_est)\n",
    "print (\"l1 distance: \", str(np.linalg.norm([a_i - b_i for a_i, b_i in zip(prob, prob_est)], ord=1)))\n",
    "print (\"prob_sum: \", str(sum(prob_est)))"
   ]
  },
  {
   "cell_type": "code",
   "execution_count": null,
   "metadata": {
    "collapsed": false
   },
   "outputs": [],
   "source": [
    "# k-rr\n",
    "sample = Classic.randomized_response_encoder(in_list, eps, k)\n",
    "(outp, temp) = np.histogram(sample,range(k+1))\n",
    "#print outp\n",
    "prob_est = Classic.normalized_standard_rr_decoder(outp,eps,n) # estimate the original underlying distribution\n",
    "plt.plot(elements,prob)\n",
    "plt.plot(elements,prob_est)\n",
    "#plt.plot(prob_est)\n",
    "print (\"l1 distance: \", str(np.linalg.norm([a_i - b_i for a_i, b_i in zip(prob, prob_est)], ord=1)))\n",
    "print (\"prob_sum: \", str(sum(prob_est)))"
   ]
  },
  {
   "cell_type": "code",
   "execution_count": null,
   "metadata": {
    "collapsed": false
   },
   "outputs": [],
   "source": [
    "# k-rappor\n",
    "sample = Classic.rappor_encoder(in_list, eps, k)\n",
    "outp = np.sum(sample, axis=0)\n",
    "prob_est = Classic.normalized_standard_rappor_decoder(outp,eps,n) # estimate the original underlying distribution\n",
    "plt.plot(elements,prob)\n",
    "plt.plot(elements,prob_est)\n",
    "#plt.plot(prob_est)\n",
    "print (\"l1 distance: \", str(np.linalg.norm([a_i - b_i for a_i, b_i in zip(prob, prob_est)], ord=1)))\n",
    "print (\"prob_sum: \", str(sum(prob_est)))"
   ]
  },
  {
   "cell_type": "code",
   "execution_count": null,
   "metadata": {
    "collapsed": false
   },
   "outputs": [],
   "source": [
    "b = k2k_hadamard.Hadamard_Rand_2(k,eps) \n",
    "#print (a.partsz)\n",
    "#print (elements.type)\n",
    "# print(type(in_list[9]))\n",
    "outp = b.encode_string(in_list)\n",
    "#print outp\n",
    "prob_est = b.decode_string(outp) # estimate the original underlying distribution\n",
    "plt.plot(elements,prob)\n",
    "plt.plot(elements,prob_est)\n",
    "#plt.plot(prob_est)\n",
    "print (\"l1 distance: \", str(np.linalg.norm([a_i - b_i for a_i, b_i in zip(prob, prob_est)], ord=1)))\n",
    "print (\"prob_sum: \", str(sum(prob_est)))"
   ]
  }
 ],
 "metadata": {
  "anaconda-cloud": {},
  "kernelspec": {
   "display_name": "Python [Root]",
   "language": "python",
   "name": "Python [Root]"
  },
  "language_info": {
   "codemirror_mode": {
    "name": "ipython",
    "version": 2
   },
   "file_extension": ".py",
   "mimetype": "text/x-python",
   "name": "python",
   "nbconvert_exporter": "python",
   "pygments_lexer": "ipython2",
   "version": "2.7.12"
  }
 },
 "nbformat": 4,
 "nbformat_minor": 2
}
