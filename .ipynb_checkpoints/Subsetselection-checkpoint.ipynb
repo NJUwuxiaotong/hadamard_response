{
 "cells": [
  {
   "cell_type": "code",
   "execution_count": 13,
   "metadata": {
    "collapsed": true
   },
   "outputs": [],
   "source": [
    "# coding: utf-8\n",
    "#%matplotlib inline\n",
    "import math\n",
    "import random\n",
    "import numpy as np\n",
    "import matplotlib.pyplot as plt\n",
    "import timeit\n",
    "\n",
    "import itertools\n",
    "#from scipy.special import comb\n",
    "#from scipy import stats\n",
    "\n",
    "class Subsetselection:\n",
    "    def __init__(self, absz, pri_para): # absz: alphabet size, pri_para: privacy parameter\n",
    "        self.insz = absz #input alphabet size k\n",
    "        self.exp = math.exp(pri_para)\n",
    "        self.d = int(math.ceil(1.0*self.insz/(self.exp+1))) # number of 1s in output bit string \n",
    "        self.p = (1.0*self.d*self.exp)/(self.d*self.exp+self.insz-self.d)\n",
    "        self.q = 1.0*(self.d-self.p)/(self.insz-1)\n",
    "    def encode_symbol(self,ori):  # encode a single symbol into a privatized version\n",
    "        sample = np.zeros(self.insz, dtype='bool')\n",
    "        y_i = np.random.binomial(1,self.p)   \n",
    "        if(y_i):\n",
    "            sample[ori]=True\n",
    "            temp = np.delete(np.array(range(self.insz)),ori, 0)\n",
    "            temp2= np.random.choice(temp,self.d-1,replace=False)\n",
    "            sample [temp2]= True\n",
    "        else:\n",
    "            sample[ori]=False\n",
    "            temp = np.delete(np.array(range(self.insz)),ori, 0)\n",
    "            temp2= np.random.choice(temp,self.d,replace=False)\n",
    "            sample [temp2]= True\n",
    "        return sample\n",
    "    \n",
    "    def encode_string_fast(self,in_list):  # encode string into a privatized string\n",
    "        n = len(in_list)\n",
    "        out_list = np.zeros((n, self.insz))\n",
    "        flip = np.random.random_sample((n, self.insz))\n",
    "        \n",
    "        for i in range(n):\n",
    "            out_list[i,in_list[i]] = np.logical_or(0,flip[i,in_list[i]] <self.p)\n",
    "        return np.logical_or(out_list, flip < self.q)\n",
    "\n",
    "    def encode_string_light(self,in_list):  # encode string into a privatized string\n",
    "        n = len(in_list)\n",
    "        counts = np.zeros(self.insz)\n",
    "        time = 0\n",
    "        for i in range(n):\n",
    "            private_samples_subset = np.zeros(self.insz)\n",
    "            flip = np.random.random_sample(self.insz)\n",
    "            private_samples_subset[in_list[i]] = (flip[in_list[i]] < self.p)\n",
    "            private_samples_subset = np.logical_or(private_samples_subset, flip < self.q)\n",
    "            start_time = timeit.default_timer()\n",
    "            counts = counts +  private_samples_subset\n",
    "            time = time + timeit.default_timer() - start_time\n",
    "            \n",
    "        return counts, time\n",
    "    \n",
    "    def encode_string(self,in_list):  # encode string into a privatized string\n",
    "        out_list = [self.encode_symbol(x) for x in in_list]\n",
    "        return out_list\n",
    "    \n",
    "    def decode_string(self, out_list, length): # get the privatized string and learn the original distribution\n",
    "        temp1 = ((self.insz-1)*self.exp+1.0*(self.insz-1)*(self.insz-self.d)/self.d) / ((self.insz-self.d)*(self.exp-1))\n",
    "        temp2 = ((self.d-1)*self.exp+self.insz-self.d) / (1.0*(self.insz-self.d)*(self.exp-1))\n",
    "        #print (np.sum(out_list, axis=0))\n",
    "        p_estimate = (1.0*np.sum(out_list, axis=0)*temp1/length)-temp2\n",
    "        p_estimate = np.maximum(p_estimate,0)\n",
    "        norm = np.sum(p_estimate)\n",
    "        p_estimate = p_estimate/float(norm)\n",
    "        return p_estimate\n",
    "        \n",
    "    def decode_counts(self, counts, length): # get the privatized string and learn the original distribution\n",
    "        temp1 = ((self.insz-1)*self.exp+1.0*(self.insz-1)*(self.insz-self.d)/self.d) / ((self.insz-self.d)*(self.exp-1))\n",
    "        temp2 = ((self.d-1)*self.exp+self.insz-self.d) / (1.0*(self.insz-self.d)*(self.exp-1))\n",
    "        #print (np.sum(out_list, axis=0))\n",
    "        p_estimate = (1.0*counts*temp1/length)-temp2\n",
    "        p_estimate = np.maximum(p_estimate,0)\n",
    "        norm = np.sum(p_estimate)\n",
    "        p_estimate = p_estimate/float(norm)\n",
    "        return p_estimate"
   ]
  },
  {
   "cell_type": "code",
   "execution_count": 15,
   "metadata": {
    "collapsed": false
   },
   "outputs": [
    {
     "name": "stdout",
     "output_type": "stream",
     "text": [
      "('l1 distance: ', '0.129957802041')\n",
      "('prob_sum: ', '1.0')\n",
      "1.65450048447\n"
     ]
    },
    {
     "data": {
      "image/png": "[encoded data removed]",
      "text/plain": [
       "<matplotlib.figure.Figure at 0x1039ff0d0>"
      ]
     },
     "metadata": {},
     "output_type": "display_data"
    }
   ],
   "source": [
    "if __name__ == \"__main__\":    \n",
    "    k = 100 #absz\n",
    "    n= 1000000\n",
    "    elements = range(0,k) #ab\n",
    "    lbd = 0.8 #parameter for geometric dist\n",
    "    eps = 1 # privacy_para\n",
    "    prob = [(1-lbd)*math.pow(lbd,x)/(1-math.pow(lbd,k)) for x in elements] # geometric dist\n",
    "    #prob = [1/float(k)] * k\n",
    "    in_list = np.random.choice(elements, n, p=prob) #input symbols\n",
    "    a = Subsetselection(k,eps) \n",
    "    #print (a.partsz)\n",
    "    #print (elements.type)\n",
    "    # print(type(in_list[9]))\n",
    "    #outp = a.encode_string_fast(in_list)\n",
    "    #prob_est = a.decode_string(outp,n) # estimate the original underlying distribution\n",
    "    \n",
    "    counts,time = a.encode_string_light(in_list)\n",
    "    prob_est = a.decode_counts(counts, n)\n",
    "    #print (counts)\n",
    "    plt.plot(elements,prob)\n",
    "    plt.plot(elements,prob_est)\n",
    "    #plt.plot(prob_est)\n",
    "    print (\"l1 distance: \", str(np.linalg.norm([a_i - b_i for a_i, b_i in zip(prob, prob_est)], ord=1)))\n",
    "    print (\"prob_sum: \", str(sum(prob_est)))\n",
    "    print (time)"
   ]
  },
  {
   "cell_type": "code",
   "execution_count": null,
   "metadata": {
    "collapsed": true
   },
   "outputs": [],
   "source": []
  }
 ],
 "metadata": {
  "anaconda-cloud": {},
  "kernelspec": {
   "display_name": "Python [Root]",
   "language": "python",
   "name": "Python [Root]"
  },
  "language_info": {
   "codemirror_mode": {
    "name": "ipython",
    "version": 2
   },
   "file_extension": ".py",
   "mimetype": "text/x-python",
   "name": "python",
   "nbconvert_exporter": "python",
   "pygments_lexer": "ipython2",
   "version": "2.7.12"
  }
 },
 "nbformat": 4,
 "nbformat_minor": 2
}
