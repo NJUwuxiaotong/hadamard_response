{
 "cells": [
  {
   "cell_type": "code",
   "execution_count": 25,
   "metadata": {
    "collapsed": true
   },
   "outputs": [],
   "source": [
    "# Copyright 2017 Department of Electrical and Computer Engineering, Cornell University. All rights reserved.\n",
    "#\n",
    "# Licensed under the Apache License, Version 2.0 (the \"License\");\n",
    "# you may not use this file except in compliance with the License.\n",
    "# You may obtain a copy of the License at\n",
    "#\n",
    "#     http://www.apache.org/licenses/LICENSE-2.0\n",
    "#\n",
    "# Unless required by applicable law or agreed to in writing, software\n",
    "# distributed under the License is distributed on an \"AS IS\" BASIS,\n",
    "# WITHOUT WARRANTIES OR CONDITIONS OF ANY KIND, either express or implied.\n",
    "# See the License for the specific language governing permissions and\n",
    "# limitations under the License."
   ]
  },
  {
   "cell_type": "markdown",
   "metadata": {},
   "source": [
    "This is a package for locally private data transmission. "
   ]
  },
  {
   "cell_type": "code",
   "execution_count": 101,
   "metadata": {
    "collapsed": false
   },
   "outputs": [],
   "source": [
    "import math\n",
    "import numpy as np\n",
    "import random\n",
    "#the Hadamard randamized responce when \\epsilon < 1\n",
    "class Hadamard_Rand_1:\n",
    "    def __init__(self, absz, pri_para): # absz: alphabet size, pri_para: privacy parameter\n",
    "        self.insz = absz #input alphabet size k\n",
    "        self.outsz = math.pow(2,math.ceil(math.log(absz+1,2))) #output alphabet size: smallest exponent of 2 which is bigger than k\n",
    "        self.outbit = math.ceil(math.log(absz+1,2)) #output bit length\n",
    "        self.pri_para = 1/(1+math.exp(pri_para))\n",
    "        \n",
    "    def encode_symbol(ori):\n",
    "        bitin = bin(ori+1)[2:].zfill(self.outbit)\n",
    "        out1 = random.randint(1,math.pow(2,self.outbit))\n",
    "        bitout1 = bin(out1)[2:].zfill(outbit)\n",
    "        for i in range(0,self.outbit):\n",
    "            if int(bitin[i]) == 1:\n",
    "                out2 = out1 ^ (pow(2,self.outbit - i -1))\n",
    "                break\n",
    "        bitout2 = bin(out2)[2:].zfill(outbit)\n",
    "        check = 0\n",
    "        for i in range(0,self.outbit):\n",
    "            check = check^(int(bitout1[i])&int(bitin[i]))\n",
    "        \n",
    "        r = random.random()\n",
    "        if check == 0:\n",
    "            if r > self.pri_para:\n",
    "                return int(bitout1,2)\n",
    "            else:\n",
    "                return int(bitout2,2)\n",
    "        else:\n",
    "            if r > self.pri_para:\n",
    "                return int(bitout2,2)\n",
    "            else:\n",
    "                return int(bitout1,2)\n",
    "    \n",
    "    def encode_string(in_str):\n",
    "        l = len(in_str)\n",
    "        out_str = '0'*l\n",
    "        for i in range(0,l):\n",
    "            out_str[i] = self.encode_symbol(int(in_str[i]))\n",
    "            \n",
    "        return out_str"
   ]
  },
  {
   "cell_type": "code",
   "execution_count": 72,
   "metadata": {
    "collapsed": false
   },
   "outputs": [
    {
     "data": {
      "text/plain": [
       "'1'"
      ]
     },
     "execution_count": 72,
     "metadata": {},
     "output_type": "execute_result"
    }
   ],
   "source": [
    "math.pow(2,math.ceil(math.log(7,2)))\n",
    "bin(10)[2:].zfill(6)\n",
    "random.randint(1,math.pow(2,6))\n",
    "outbit = 10\n",
    "ori = 39\n",
    "bitin = bin(ori+1)[2:].zfill(outbit)\n",
    "bitout1 = bin(random.randint(1,math.pow(2,outbit)))[2:].zfill(outbit)\n",
    "int(bitout1,2)\n",
    "bitout1[5]"
   ]
  },
  {
   "cell_type": "code",
   "execution_count": 113,
   "metadata": {
    "collapsed": false
   },
   "outputs": [
    {
     "name": "stdout",
     "output_type": "stream",
     "text": [
      "bitin:   0001000000\n",
      "bitout1: 0000110010\n",
      "bitout2: 0001110010\n",
      "0\n",
      "0.227767798827\n",
      "0001110010\n"
     ]
    }
   ],
   "source": [
    "ori = 63\n",
    "outbit = 10\n",
    "pri_para = .8\n",
    "bitin = bin(ori+1)[2:].zfill(outbit)\n",
    "print 'bitin:   ' + bitin\n",
    "out1 = random.randint(1,math.pow(2,outbit))\n",
    "bitout1 = bin(out1)[2:].zfill(outbit)\n",
    "print 'bitout1: ' + bitout1\n",
    "for i in range(0,outbit):\n",
    "    if int(bitin[i]) == 1:\n",
    "        out2 = out1 ^ (pow(2,outbit - i -1))\n",
    "        break   \n",
    "bitout2 = bin(out2)[2:].zfill(outbit)\n",
    "print 'bitout2: ' + bitout2\n",
    "check = 0\n",
    "for i in range(0,outbit):\n",
    "    check = check^(int(bitout1[i])&int(bitin[i]))\n",
    "\n",
    "print check\n",
    "ra = random.random()\n",
    "print ra\n",
    "if check == 0:\n",
    "    if ra > pri_para:\n",
    "        aa = int(bitout1,2)\n",
    "    else:\n",
    "        aa = int(bitout2,2)\n",
    "else:\n",
    "    if ra > pri_para:\n",
    "        aa = int(bitout2,2)\n",
    "    else:\n",
    "        aa = int(bitout1,2)\n",
    "print bin(aa)[2:].zfill(outbit)"
   ]
  },
  {
   "cell_type": "code",
   "execution_count": 88,
   "metadata": {
    "collapsed": false
   },
   "outputs": [
    {
     "data": {
      "text/plain": [
       "825"
      ]
     },
     "execution_count": 88,
     "metadata": {},
     "output_type": "execute_result"
    }
   ],
   "source": [
    "aa"
   ]
  },
  {
   "cell_type": "code",
   "execution_count": 107,
   "metadata": {
    "collapsed": false
   },
   "outputs": [
    {
     "name": "stdout",
     "output_type": "stream",
     "text": [
      "1\n"
     ]
    }
   ],
   "source": [
    "a = '1'*10\n",
    "print int(a[9])"
   ]
  },
  {
   "cell_type": "code",
   "execution_count": null,
   "metadata": {
    "collapsed": true
   },
   "outputs": [],
   "source": []
  }
 ],
 "metadata": {
  "anaconda-cloud": {},
  "kernelspec": {
   "display_name": "Python [Root]",
   "language": "python",
   "name": "Python [Root]"
  },
  "language_info": {
   "codemirror_mode": {
    "name": "ipython",
    "version": 2
   },
   "file_extension": ".py",
   "mimetype": "text/x-python",
   "name": "python",
   "nbconvert_exporter": "python",
   "pygments_lexer": "ipython2",
   "version": "2.7.12"
  }
 },
 "nbformat": 4,
 "nbformat_minor": 0
}
