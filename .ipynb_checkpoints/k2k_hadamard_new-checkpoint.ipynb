{
 "cells": [
  {
   "cell_type": "code",
   "execution_count": 60,
   "metadata": {
    "collapsed": true,
    "scrolled": true
   },
   "outputs": [],
   "source": [
    "# Copyright 2017 Department of Electrical and Computer Engineering, Cornell University. All rights reserved.\n",
    "#\n",
    "# Licensed under the Apache License, Version 2.0 (the \"License\");\n",
    "# you may not use this file except in compliance with the License.\n",
    "# You may obtain a copy of the License at\n",
    "#\n",
    "#     http://www.apache.org/licenses/LICENSE-2.0\n",
    "#\n",
    "# Unless required by applicable law or agreed to in writing, software\n",
    "# distributed under the License is distributed on an \"AS IS\" BASIS,\n",
    "# WITHOUT WARRANTIES OR CONDITIONS OF ANY KIND, either express or implied.\n",
    "# See the License for the specific language governing permissions and\n",
    "# limitations under the License."
   ]
  },
  {
   "cell_type": "markdown",
   "metadata": {},
   "source": [
    "This is a package for locally private data transmission. "
   ]
  },
  {
   "cell_type": "code",
   "execution_count": 69,
   "metadata": {
    "collapsed": true,
    "scrolled": true
   },
   "outputs": [],
   "source": [
    "%matplotlib inline\n",
    "import math\n",
    "import numpy as np\n",
    "import random\n",
    "import matplotlib.pyplot as plt\n",
    "\n",
    "def FWHT_A(k, dist):\n",
    "    if k == 1:\n",
    "        return dist\n",
    "    dist1 = dist[0 : k//2]\n",
    "    dist2 = dist[k//2 : k]\n",
    "    trans1 = FWHT_A(k//2, dist1)\n",
    "    trans2 = FWHT_A(k//2, dist2)\n",
    "    trans = np.concatenate((trans1+ trans2, trans1 - trans2))\n",
    "    return trans\n",
    "\n",
    "def Hadarmard_init(k):\n",
    "    H = [None] * k\n",
    "    for row in range(k):\n",
    "        H[row] = [True] * k\n",
    "# Initialize Hadamard matrix of order n.\n",
    "    i1 = 1\n",
    "    while i1 < k:\n",
    "        for i2 in range(i1):\n",
    "            for i3 in range(i1):\n",
    "                H[i2+i1][i3]    = H[i2][i3]\n",
    "                H[i2][i3+i1]    = H[i2][i3]\n",
    "                H[i2+i1][i3+i1] = not H[i2][i3]\n",
    "        i1 += i1\n",
    "    return H\n",
    "\n",
    "def Random_Permutation(k):\n",
    "    permute = np.random.permutation(k)\n",
    "    reverse = np.zeros(k)\n",
    "    for i in range(k):\n",
    "        reverse[int(permute[i])] = i\n",
    "    return permute,reverse"
   ]
  },
  {
   "cell_type": "code",
   "execution_count": 70,
   "metadata": {},
   "outputs": [],
   "source": [
    "#The Hadamard randomized response for all regimes\n",
    "\n",
    "class Hadamard_Rand_2:\n",
    "    def __init__(self, absz, pri_para): # absz: alphabet size, pri_para: privacy parameter\n",
    "        self.insz = absz #input alphabet size k\n",
    "        #self.outsz = int(math.pow(2,math.ceil(math.log(absz+1,2)))) #output alphabet size: smallest exponent of 2 which is bigger than k\n",
    "        #self.outbit = int(math.ceil(math.log(absz+1,2))) #output bit length\n",
    "        self.pri_para = 1/(1+math.exp(pri_para)) #flipping probability to maintain local privacy\n",
    "        self.exp = math.exp(pri_para) #privacy parameter\n",
    "        #self.initbit = int(math.floor(math.log(self.exp,2))) # number of bits indicating the block number \n",
    "        self.initbit = int(math.floor(math.log(min(2*absz,self.exp),2))) # number of bits indicating the block number\n",
    "        self.part = int(math.pow(2,self.initbit)) #total number of blocks B\n",
    "        self.tailbit = int(math.ceil(math.log(float(self.insz)/float(self.part)+1,2))) #number of bits indicating the location within a block\n",
    "        self.partsz = int(math.pow(2,self.tailbit)) # size of each block b\n",
    "        #self.num_one = int(self.partsz/2 - 1)\n",
    "        self.outbit = self.tailbit + self.initbit #total number of output bits\n",
    "        self.partnum = int(math.ceil(float(self.insz)/float(self.partsz - 1)))\n",
    "        self.outsz = int(self.partsz*self.partnum) # output alphabet size K\n",
    "        self.H = Hadarmard_init(self.partsz) # initialize Hadarmard matrix\n",
    "        self.permute, self.reverse = Random_Permutation(absz) #Initialize random permutation\n",
    "        \n",
    "    def entry_check(self,x,y): #check if the reduced hadamard entry is one (return 0 for 1)\n",
    "        x_bit = bin(x)[2:].zfill(self.outbit)\n",
    "        y_bit = bin(y)[2:].zfill(self.outbit)\n",
    "        for i in range(0,self.initbit): # check if they are in the same block, if not, return -1\n",
    "            if x_bit[i] != y_bit[i]:\n",
    "                return True\n",
    "        check = False\n",
    "        for i in range(self.initbit, self.outbit): #check whether the entry is one within the block\n",
    "            check = check^(int(x_bit[i]) & int(y_bit[i]))\n",
    "        return check\n",
    "                                  \n",
    "    def encode_symbol(self,ori):  # encode a single symbol into a privatized version \n",
    "        # we use coupling argument to do this\n",
    "        ori1 = int(ori)//(self.partsz-1)*self.partsz + int(ori)%(self.partsz-1)+1 #map the input x to the xth column with weight b/2 \n",
    "        bitin = bin(int(ori1))[2:].zfill(self.outbit)\n",
    "        out1 = random.randint(0,self.outsz-1) #get a random number out1 in the output alphabet as a potential output\n",
    "        ra = random.random()\n",
    "        if ra < (2*self.part)/(2*self.part-1+self.exp): #with certain prob, output the same symbol as from uniform distribution\n",
    "            return out1\n",
    "        else:\n",
    "            out1 = out1%self.partsz + self.partsz*(ori1//self.partsz) # map out1 to the same block as ori1 while maintain the location within the block\n",
    "            if self.entry_check(ori1,out1) == 0: #if location (ori1, out1) is one, output out1\n",
    "                return out1\n",
    "            else: #else flip bit at the left most location where bit representation of ori1 is one \n",
    "                for i in range(self.initbit, self.outbit): \n",
    "                    if int(bitin[i]) == 1:\n",
    "                        #out1 = out1 ^ (pow(2,self.outbit - i -1))\n",
    "                        out1 = out1 ^ (1 << (self.outbit - i -1))\n",
    "                        break\n",
    "                return out1\n",
    "            \n",
    "    def encode_symbol_rough(self,ori):  # encode a single symbol into a privatized version \n",
    "        # we use coupling argument to do this\n",
    "        part_index = int(ori)//(self.partsz-1)\n",
    "        part_pos = int(ori)%(self.partsz-1)+1\n",
    "        ori1 = (part_index << self.tailbit) + part_pos #map the input x to the xth column with weight b/2\n",
    "        #ori1 = part_index * self.partsz + part_pos\n",
    "        out1 = np.random.randint(0,self.outsz) #get a random number out1 in the output alphabet as a potential output\n",
    "        ra = random.random()\n",
    "        if ra < (2*self.partnum)/(2*self.partnum-1+self.exp): #with certain prob, output the same symbol as from uniform distribution\n",
    "            return out1\n",
    "        else:\n",
    "            out_pos = out1 & (self.partsz - 1)\n",
    "            #out_pos = out1 % self.partsz\n",
    "            out1 =  out_pos + (part_index << self.tailbit) # map out1 to the same block as ori1 while maintain the location within the block\n",
    "            #out1 = out_pos + part_index*self.partsz\n",
    "            if self.H[part_pos][out_pos] == True: #if location (ori1, out1) is one, output out1\n",
    "                return out1\n",
    "            else: #else flip bit at the left most location where bit representation of ori1 is one \n",
    "                #bitin = bin(int(ori1))[2:].zfill(self.outbit)\n",
    "                check = 1\n",
    "                for i in range(self.outbit - self.initbit): \n",
    "                    if ori1%2 == 1:\n",
    "                        #out1 = out1 ^ (pow(2,self.outbit - i -1))\n",
    "                        out1 = out1 ^ check\n",
    "                        break\n",
    "                    ori1 = ori1 >> 1\n",
    "                    check = check << 1\n",
    "                return out1\n",
    "    \n",
    "    def encode_symbol_fast(self, ori):\n",
    "        while(1):\n",
    "            out = self.encode_symbol_rough(ori)\n",
    "            if out%self.partsz != 0:\n",
    "                return out\n",
    "    \n",
    "    def encode_string(self,in_list):  # encode string into a privatized string\n",
    "        out_list = [self.encode_symbol(x) for x in in_list]\n",
    "        return out_list\n",
    "    \n",
    "    def encode_string_fast(self,in_list):  # encode string into a privatized string\n",
    "        out_list = [self.encode_symbol_fast(x) for x in in_list]\n",
    "        return out_list\n",
    "    \n",
    "    def encode_string_permute(self,in_list): #permute before encoding\n",
    "        out_list = [self.encode_symbol_fast(self.permute[x]) for x in in_list]\n",
    "        return out_list        \n",
    "    \n",
    "    def decode_string(self, out_list): # get the privatized string and learn the original distribution\n",
    "        \n",
    "        l = len(out_list)\n",
    "        dist_S = np.zeros(self.insz)\n",
    "        count,edges = np.histogram(out_list,range(self.outsz+1))\n",
    "        freq = count/float(l)\n",
    "        \n",
    "        freq_block = np.zeros(self.part) # count the number of appearances of each block\n",
    "        for i in range(0,self.part): \n",
    "            #count_block[i] = np.sum(count[i*self.partsz : (i+1)*self.partsz - 1])\n",
    "            for j in range(0,self.partsz):\n",
    "                freq_block[i] = freq_block[i] + freq[i*self.partsz+j]\n",
    "        \n",
    "        \n",
    "        #freq_block = np.true_divide(count_block,l) # calculate the frequency of each block\n",
    "        dist_block = np.true_divide((2*self.part-1+self.exp)*(freq_block)-2,self.exp-1) # calculate the estimated original prob of each block\n",
    "                    \n",
    "        for i in range(0, self.insz): \n",
    "            pi = int(i)//(self.partsz-1)\n",
    "            ti = pi*self.partsz + int(i)%(self.partsz-1)+1\n",
    "            for x in range(pi*self.partsz, (pi+1)*self.partsz): # count the number of appearances of each C_i\n",
    "                if self.entry_check(ti,x) == 0:\n",
    "                    dist_S[i] = dist_S[i] + freq[x]\n",
    "\n",
    "        #dist_S = np.zeros(self.insz)\n",
    "        #dist_S = np.true_divide(num,l) #calculate the frequency of each C_i\n",
    "        dist_inter = np.true_divide(2*(dist_S*(2*self.part-1+self.exp)-1),self.exp-1) # calculate intermediate prob\n",
    "        dist = [dist_inter[i] - dist_block[i//(self.partsz-1)] for i in range(0,self.insz)] # calculate the estimated prob for each symbol\n",
    "        dist = np.maximum(dist,0) #map it to be positive\n",
    "        norm = np.sum(dist)\n",
    "        dist = np.true_divide(dist,norm) #ensure the l_1 norm is one\n",
    "        return dist\n",
    "    \n",
    "    \n",
    "    def decode_string_fast(self, out_list): # get the privatized string and learn the original distribution\n",
    "        \n",
    "        l = len(out_list)\n",
    "        count,edges = np.histogram(out_list,range(self.outsz+1))\n",
    "        freq = count/float(l)\n",
    "        \n",
    "        #parts = self.insz//(self.partsz-1) \n",
    "        freq_S = np.zeros(self.outsz)\n",
    "        freq_block = np.zeros(self.partnum)\n",
    "        \n",
    "        #plt.plot(freq)\n",
    "        \n",
    "        for i in range(0, self.partnum):\n",
    "            Trans = FWHT_A(self.partsz, freq[i*self.partsz: (i+1)*self.partsz])\n",
    "            freq_block[i] = Trans[0]\n",
    "            freq_S[i*(self.partsz-1): (i+1)*(self.partsz-1)] = (Trans[1:self.partsz] + Trans[0])/float(2) \n",
    "        \n",
    "        dist_S = freq_S[0:self.insz]\n",
    "        \n",
    "        dist_block = np.true_divide((2*self.part-1+self.exp)*(freq_block)-2,self.exp-1) # calculate the estimated original prob of each block\n",
    "\n",
    "        #dist_S = np.true_divide(num,l) #calculate the frequency of each C_i\n",
    "        lbd = 2*float(self.outsz - self.partnum)/float(self.partsz)\n",
    "        dist_inter = np.true_divide(2*(dist_S*(2*self.part-1+self.exp)-1),self.exp-1) # calculate intermediate prob\n",
    "        dist = [dist_inter[i] - dist_block[i//(self.partsz-1)] for i in range(0,self.insz)] # calculate the estimated prob for each symbol\n",
    "        dist = np.maximum(dist,0) #map it to be positive\n",
    "        norm = np.sum(dist)\n",
    "        dist = np.true_divide(dist,norm) #ensure the l_1 norm is one\n",
    "        return dist\n",
    "    \n",
    "    def decode_string_permute(self, out_list): # get the privatized string and learn the original distribution\n",
    "        dist1 = self.decode_string_fast(out_list)\n",
    "        dist = np.zeros(self.insz)\n",
    "        for i in range(self.insz):\n",
    "            dist[int(self.reverse[i])] = dist1[i]\n",
    "        return dist"
   ]
  },
  {
   "cell_type": "code",
   "execution_count": 77,
   "metadata": {},
   "outputs": [
    {
     "name": "stdout",
     "output_type": "stream",
     "text": [
      "16\n",
      "64\n",
      "8\n",
      "512\n",
      "20.0855369232\n",
      "Encoding Done!\n",
      "1000000\n",
      "('l1 distance: ', 'nan')\n",
      "('prob_sum: ', 'nan')\n"
     ]
    },
    {
     "name": "stderr",
     "output_type": "stream",
     "text": [
      "/Users/ZitengSun/anaconda/lib/python2.7/site-packages/ipykernel/__main__.py:161: RuntimeWarning: invalid value encountered in true_divide\n"
     ]
    },
    {
     "data": {
      "image/png": "[encoded data removed]",
      "text/plain": [
       "<matplotlib.figure.Figure at 0x10ff0c350>"
      ]
     },
     "metadata": {},
     "output_type": "display_data"
    }
   ],
   "source": [
    "if __name__ == \"__main__\":\n",
    "    k = 500 #absz\n",
    "    elements = range(0,k) #ab\n",
    "    lbd = 0.8 #parameter for geometric dist\n",
    "    eps = 3# privacy_para\n",
    "    prob = [(1-lbd)*math.pow(lbd,x)/(1-math.pow(lbd,k)) for x in elements] # geometric dist\n",
    "    prob = [1/float(k)] * k\n",
    "    in_list = np.random.choice(elements, 1000000, p=prob) #input symbols\n",
    "    a = Hadamard_Rand_2(k,eps) \n",
    "    print(a.part)\n",
    "    print(a.partsz)\n",
    "    print(a.partnum)\n",
    "    print(a.outsz)\n",
    "    print(a.exp)\n",
    "    #print (a.partsz)\n",
    "    #print (elements.type)\n",
    "    # print(type(in_list[9]))\n",
    "    outp = a.encode_string_permute(in_list)\n",
    "    print('Encoding Done!')\n",
    "    print(len(outp))\n",
    "    #print outp\n",
    "    prob_est = a.decode_string_permute(outp) # estimate the original underlying distribution\n",
    "    plt.plot(elements,prob)\n",
    "    plt.plot(elements,prob_est)\n",
    "    #plt.plot(prob_est)\n",
    "    print (\"l1 distance: \", str(np.linalg.norm([a_i - b_i for a_i, b_i in zip(prob, prob_est)], ord=1)))\n",
    "    print (\"prob_sum: \", str(sum(prob_est)))"
   ]
  },
  {
   "cell_type": "code",
   "execution_count": 59,
   "metadata": {
    "scrolled": false
   },
   "outputs": [
    {
     "name": "stdout",
     "output_type": "stream",
     "text": [
      "1\n"
     ]
    },
    {
     "name": "stderr",
     "output_type": "stream",
     "text": [
      "/Users/ZitengSun/anaconda/lib/python2.7/site-packages/ipykernel/__main__.py:161: RuntimeWarning: invalid value encountered in true_divide\n"
     ]
    },
    {
     "name": "stdout",
     "output_type": "stream",
     "text": [
      "2\n",
      "3\n",
      "4\n",
      "5\n",
      "6\n"
     ]
    },
    {
     "ename": "KeyboardInterrupt",
     "evalue": "",
     "output_type": "error",
     "traceback": [
      "\u001b[0;31m---------------------------------------------------------------------------\u001b[0m",
      "\u001b[0;31mKeyboardInterrupt\u001b[0m                         Traceback (most recent call last)",
      "\u001b[0;32m<ipython-input-59-70c1dba192fc>\u001b[0m in \u001b[0;36m<module>\u001b[0;34m()\u001b[0m\n\u001b[1;32m     14\u001b[0m         \u001b[0;32mprint\u001b[0m\u001b[0;34m(\u001b[0m\u001b[0mi\u001b[0m\u001b[0;34m)\u001b[0m\u001b[0;34m\u001b[0m\u001b[0m\n\u001b[1;32m     15\u001b[0m         \u001b[0mstart_time\u001b[0m \u001b[0;34m=\u001b[0m \u001b[0mtimeit\u001b[0m\u001b[0;34m.\u001b[0m\u001b[0mdefault_timer\u001b[0m\u001b[0;34m(\u001b[0m\u001b[0;34m)\u001b[0m\u001b[0;34m\u001b[0m\u001b[0m\n\u001b[0;32m---> 16\u001b[0;31m         \u001b[0moutp\u001b[0m \u001b[0;34m=\u001b[0m \u001b[0ma\u001b[0m\u001b[0;34m.\u001b[0m\u001b[0mencode_string_fast\u001b[0m\u001b[0;34m(\u001b[0m\u001b[0min_list\u001b[0m\u001b[0;34m)\u001b[0m \u001b[0;31m# get the output string\u001b[0m\u001b[0;34m\u001b[0m\u001b[0m\n\u001b[0m\u001b[1;32m     17\u001b[0m         \u001b[0mt1\u001b[0m \u001b[0;34m=\u001b[0m \u001b[0mt1\u001b[0m \u001b[0;34m+\u001b[0m \u001b[0mtimeit\u001b[0m\u001b[0;34m.\u001b[0m\u001b[0mdefault_timer\u001b[0m\u001b[0;34m(\u001b[0m\u001b[0;34m)\u001b[0m \u001b[0;34m-\u001b[0m \u001b[0mstart_time\u001b[0m\u001b[0;34m\u001b[0m\u001b[0m\n\u001b[1;32m     18\u001b[0m         \u001b[0mstart_time\u001b[0m \u001b[0;34m=\u001b[0m \u001b[0mtimeit\u001b[0m\u001b[0;34m.\u001b[0m\u001b[0mdefault_timer\u001b[0m\u001b[0;34m(\u001b[0m\u001b[0;34m)\u001b[0m\u001b[0;34m\u001b[0m\u001b[0m\n",
      "\u001b[0;32m<ipython-input-56-5030f612e853>\u001b[0m in \u001b[0;36mencode_string_fast\u001b[0;34m(self, in_list)\u001b[0m\n\u001b[1;32m     91\u001b[0m \u001b[0;34m\u001b[0m\u001b[0m\n\u001b[1;32m     92\u001b[0m     \u001b[0;32mdef\u001b[0m \u001b[0mencode_string_fast\u001b[0m\u001b[0;34m(\u001b[0m\u001b[0mself\u001b[0m\u001b[0;34m,\u001b[0m\u001b[0min_list\u001b[0m\u001b[0;34m)\u001b[0m\u001b[0;34m:\u001b[0m  \u001b[0;31m# encode string into a privatized string\u001b[0m\u001b[0;34m\u001b[0m\u001b[0m\n\u001b[0;32m---> 93\u001b[0;31m         \u001b[0mout_list\u001b[0m \u001b[0;34m=\u001b[0m \u001b[0;34m[\u001b[0m\u001b[0mself\u001b[0m\u001b[0;34m.\u001b[0m\u001b[0mencode_symbol_fast\u001b[0m\u001b[0;34m(\u001b[0m\u001b[0mx\u001b[0m\u001b[0;34m)\u001b[0m \u001b[0;32mfor\u001b[0m \u001b[0mx\u001b[0m \u001b[0;32min\u001b[0m \u001b[0min_list\u001b[0m\u001b[0;34m]\u001b[0m\u001b[0;34m\u001b[0m\u001b[0m\n\u001b[0m\u001b[1;32m     94\u001b[0m         \u001b[0;32mreturn\u001b[0m \u001b[0mout_list\u001b[0m\u001b[0;34m\u001b[0m\u001b[0m\n\u001b[1;32m     95\u001b[0m \u001b[0;34m\u001b[0m\u001b[0m\n",
      "\u001b[0;32m<ipython-input-56-5030f612e853>\u001b[0m in \u001b[0;36mencode_symbol_fast\u001b[0;34m(self, ori)\u001b[0m\n\u001b[1;32m     82\u001b[0m     \u001b[0;32mdef\u001b[0m \u001b[0mencode_symbol_fast\u001b[0m\u001b[0;34m(\u001b[0m\u001b[0mself\u001b[0m\u001b[0;34m,\u001b[0m \u001b[0mori\u001b[0m\u001b[0;34m)\u001b[0m\u001b[0;34m:\u001b[0m\u001b[0;34m\u001b[0m\u001b[0m\n\u001b[1;32m     83\u001b[0m         \u001b[0;32mwhile\u001b[0m\u001b[0;34m(\u001b[0m\u001b[0;36m1\u001b[0m\u001b[0;34m)\u001b[0m\u001b[0;34m:\u001b[0m\u001b[0;34m\u001b[0m\u001b[0m\n\u001b[0;32m---> 84\u001b[0;31m             \u001b[0mout\u001b[0m \u001b[0;34m=\u001b[0m \u001b[0mself\u001b[0m\u001b[0;34m.\u001b[0m\u001b[0mencode_symbol_rough\u001b[0m\u001b[0;34m(\u001b[0m\u001b[0mori\u001b[0m\u001b[0;34m)\u001b[0m\u001b[0;34m\u001b[0m\u001b[0m\n\u001b[0m\u001b[1;32m     85\u001b[0m             \u001b[0;32mif\u001b[0m \u001b[0mout\u001b[0m\u001b[0;34m%\u001b[0m\u001b[0mself\u001b[0m\u001b[0;34m.\u001b[0m\u001b[0mpartsz\u001b[0m \u001b[0;34m!=\u001b[0m \u001b[0;36m0\u001b[0m\u001b[0;34m:\u001b[0m\u001b[0;34m\u001b[0m\u001b[0m\n\u001b[1;32m     86\u001b[0m                 \u001b[0;32mreturn\u001b[0m \u001b[0mout\u001b[0m\u001b[0;34m\u001b[0m\u001b[0m\n",
      "\u001b[0;32m<ipython-input-56-5030f612e853>\u001b[0m in \u001b[0;36mencode_symbol_rough\u001b[0;34m(self, ori)\u001b[0m\n\u001b[1;32m     54\u001b[0m         \u001b[0;31m# we use coupling argument to do this\u001b[0m\u001b[0;34m\u001b[0m\u001b[0;34m\u001b[0m\u001b[0m\n\u001b[1;32m     55\u001b[0m         \u001b[0mpart_index\u001b[0m \u001b[0;34m=\u001b[0m \u001b[0mint\u001b[0m\u001b[0;34m(\u001b[0m\u001b[0mori\u001b[0m\u001b[0;34m)\u001b[0m\u001b[0;34m//\u001b[0m\u001b[0;34m(\u001b[0m\u001b[0mself\u001b[0m\u001b[0;34m.\u001b[0m\u001b[0mpartsz\u001b[0m\u001b[0;34m-\u001b[0m\u001b[0;36m1\u001b[0m\u001b[0;34m)\u001b[0m\u001b[0;34m\u001b[0m\u001b[0m\n\u001b[0;32m---> 56\u001b[0;31m         \u001b[0mpart_pos\u001b[0m \u001b[0;34m=\u001b[0m \u001b[0mint\u001b[0m\u001b[0;34m(\u001b[0m\u001b[0mori\u001b[0m\u001b[0;34m)\u001b[0m\u001b[0;34m%\u001b[0m\u001b[0;34m(\u001b[0m\u001b[0mself\u001b[0m\u001b[0;34m.\u001b[0m\u001b[0mpartsz\u001b[0m\u001b[0;34m-\u001b[0m\u001b[0;36m1\u001b[0m\u001b[0;34m)\u001b[0m\u001b[0;34m+\u001b[0m\u001b[0;36m1\u001b[0m\u001b[0;34m\u001b[0m\u001b[0m\n\u001b[0m\u001b[1;32m     57\u001b[0m         \u001b[0mori1\u001b[0m \u001b[0;34m=\u001b[0m \u001b[0;34m(\u001b[0m\u001b[0mpart_index\u001b[0m \u001b[0;34m<<\u001b[0m \u001b[0mself\u001b[0m\u001b[0;34m.\u001b[0m\u001b[0mtailbit\u001b[0m\u001b[0;34m)\u001b[0m \u001b[0;34m+\u001b[0m \u001b[0mpart_pos\u001b[0m \u001b[0;31m#map the input x to the xth column with weight b/2\u001b[0m\u001b[0;34m\u001b[0m\u001b[0m\n\u001b[1;32m     58\u001b[0m         \u001b[0;31m#ori1 = part_index * self.partsz + part_pos\u001b[0m\u001b[0;34m\u001b[0m\u001b[0;34m\u001b[0m\u001b[0m\n",
      "\u001b[0;31mKeyboardInterrupt\u001b[0m: "
     ]
    }
   ],
   "source": [
    "if __name__ == \"__main__\":\n",
    "    import timeit\n",
    "    k = 10000 #absz\n",
    "    elements = range(0,k) #ab\n",
    "    lbd = 0.8 #parameter for geometric dist\n",
    "    eps = 10 # privacy_para\n",
    "    #prob = [(1-lbd)*math.pow(lbd,x)/(1-math.pow(lbd,k)) for x in elements] # geometric dist\n",
    "    prob = [1/float(k)] * k\n",
    "    in_list = np.random.choice(elements, 100000, p=prob) #input symbols\n",
    "    a = Hadamard_Rand_2(k,eps) # define the private channel\n",
    "    t1 = 0\n",
    "    t2 = 0\n",
    "    for i in range(1,51):\n",
    "        print(i)\n",
    "        start_time = timeit.default_timer()\n",
    "        outp = a.encode_string_fast(in_list) # get the output string\n",
    "        t1 = t1 + timeit.default_timer() - start_time\n",
    "        start_time = timeit.default_timer()\n",
    "        prob_est = a.decode_string_fast(outp) # estimate the original underlining distribution\n",
    "        t2 = t2 + timeit.default_timer() - start_time\n",
    "    plt.plot(elements,prob)\n",
    "    plt.plot(elements,prob_est)\n",
    "    print 'encoding time: ' + str(t1)\n",
    "    print 'decoding time: '+ str(t2)\n",
    "    print 'l1 distance' + str(np.linalg.norm([a_i - b_i for a_i, b_i in zip(prob, prob_est)], ord=1))\n",
    "    print 'prob_sum' + str(sum(prob_est))"
   ]
  },
  {
   "cell_type": "code",
   "execution_count": 17,
   "metadata": {},
   "outputs": [
    {
     "data": {
      "text/plain": [
       "False"
      ]
     },
     "execution_count": 17,
     "metadata": {},
     "output_type": "execute_result"
    }
   ],
   "source": [
    "1 != 1"
   ]
  },
  {
   "cell_type": "code",
   "execution_count": 44,
   "metadata": {},
   "outputs": [
    {
     "data": {
      "text/plain": [
       "0"
      ]
     },
     "execution_count": 44,
     "metadata": {},
     "output_type": "execute_result"
    }
   ],
   "source": [
    "1000%1"
   ]
  },
  {
   "cell_type": "code",
   "execution_count": null,
   "metadata": {
    "collapsed": true
   },
   "outputs": [],
   "source": []
  }
 ],
 "metadata": {
  "anaconda-cloud": {},
  "kernelspec": {
   "display_name": "Python 3",
   "language": "python",
   "name": "python3"
  },
  "language_info": {
   "codemirror_mode": {
    "name": "ipython",
    "version": 3
   },
   "file_extension": ".py",
   "mimetype": "text/x-python",
   "name": "python",
   "nbconvert_exporter": "python",
   "pygments_lexer": "ipython3",
   "version": "3.6.4"
  }
 },
 "nbformat": 4,
 "nbformat_minor": 1
}
