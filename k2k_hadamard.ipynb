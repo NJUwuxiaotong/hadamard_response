{
 "cells": [
  {
   "cell_type": "code",
   "execution_count": null,
   "metadata": {
    "collapsed": true,
    "scrolled": true
   },
   "outputs": [],
   "source": [
    "# Copyright 2017 Department of Electrical and Computer Engineering, Cornell University. All rights reserved.\n",
    "#\n",
    "# Licensed under the Apache License, Version 2.0 (the \"License\");\n",
    "# you may not use this file except in compliance with the License.\n",
    "# You may obtain a copy of the License at\n",
    "#\n",
    "#     http://www.apache.org/licenses/LICENSE-2.0\n",
    "#\n",
    "# Unless required by applicable law or agreed to in writing, software\n",
    "# distributed under the License is distributed on an \"AS IS\" BASIS,\n",
    "# WITHOUT WARRANTIES OR CONDITIONS OF ANY KIND, either express or implied.\n",
    "# See the License for the specific language governing permissions and\n",
    "# limitations under the License."
   ]
  },
  {
   "cell_type": "markdown",
   "metadata": {},
   "source": [
    "This is a package for locally private data transmission. "
   ]
  },
  {
   "cell_type": "code",
   "execution_count": 1,
   "metadata": {
    "collapsed": false,
    "scrolled": true
   },
   "outputs": [],
   "source": [
    "%matplotlib inline\n",
    "import math\n",
    "import numpy as np\n",
    "import random\n",
    "import matplotlib.pyplot as plt\n",
    "#the Hadamard randamized responce when \\epsilon < 1\n",
    "\n",
    "class Hadamard_Rand_1:\n",
    "    def __init__(self, absz, pri_para): # absz: alphabet size, pri_para: privacy parameter\n",
    "        self.insz = absz #input alphabet size k\n",
    "        self.outsz = int(math.pow(2,math.ceil(math.log(absz+1,2)))) #output alphabet size: smallest exponent of 2 which is bigger than k\n",
    "        self.outbit = int(math.ceil(math.log(absz+1,2))) #output bit length\n",
    "        self.exp = math.exp(pri_para) #privacy parameter\n",
    "        self.pri_para = 1/(1+math.exp(pri_para)) #flipping probability to maintain local privacy\n",
    "\n",
    "    def parity_check(self,x,y): #check if the hadamard entry is one (return 0 for if the entry is 1)\n",
    "        z = x&y #bit and\n",
    "        z_bit = bin(z)[2:].zfill(self.outbit)\n",
    "        check = 0\n",
    "        for i in range(0,self.outbit): #check = \\sum_i (x_i y_i) （mod 2）\n",
    "            check = check^int(z_bit[i]) \n",
    "        return check\n",
    "                                  \n",
    "    def encode_symbol(self,ori):  # encode a single symbol into a privatized version\n",
    "        bitin = bin(int(ori)+1)[2:].zfill(self.outbit) #map the input symbol x to x+1 since we are not using the first column of the matrix\n",
    "        out1 = random.randint(0,math.pow(2,self.outbit)-1) #get a random number in the output alphabet as one potential output\n",
    "        bitout1 = bin(out1)[2:].zfill(self.outbit)\n",
    "        for i in range(0,self.outbit): #flip the bit of out1 corresponding to the left most bit in (ori+1) which is one to get the other potential output\n",
    "            if int(bitin[i]) == 1:\n",
    "                out2 = out1 ^ (pow(2,self.outbit - i -1))\n",
    "                break   \n",
    "        #bitout2 = bin(out2)[2:].zfill(self.outbit)\n",
    "        check = 0\n",
    "        for i in range(0,self.outbit): # check if the Hadamard entry at position (ori+1, out1) is one or not\n",
    "            check = check^(int(bitout1[i])&int(bitin[i]))\n",
    "        ra = random.random()\n",
    "        if check == 0: # if it is one output out1 with prob (1-pri_para)\n",
    "            if ra > self.pri_para:\n",
    "                return out1\n",
    "            else:\n",
    "                return out2\n",
    "        else: # else output out2 with prob (1-pri_para)\n",
    "            if ra > self.pri_para:\n",
    "                return out2\n",
    "            else:\n",
    "                return out1          \n",
    "     \n",
    "    def encode_string(self,in_list):  # encode string into a privatized string\n",
    "        out_list = [a.encode_symbol(x) for x in in_list] # encode each symbol in the string\n",
    "        return out_list\n",
    "    \n",
    "    def decode_string(self, out_list): # get the privatized string and learn the original distribution\n",
    "        l = len(out_list) \n",
    "        num = [0]*self.insz\n",
    "        count = [0]*self.outsz\n",
    "        for x in out_list: # count the number of appearances of each output symbol\n",
    "            count[x] = count[x] + 1 \n",
    "        \n",
    "        for x in range(0,self.outsz):\n",
    "            #print x\n",
    "            for i in range(1, self.insz+1): #if output x is in C_i(locations in row i which is 1), add it to the count of C_i\n",
    "                if self.parity_check(i,x) == 0:\n",
    "                    num[i-1] = num[i-1] + count[x]\n",
    "        dist_S = [float(x)/float(l) for x in num] #get the frequencies of C_i\n",
    "        dist = [(2*x*(1+self.exp)-(1+self.exp))/(self.exp-1) for x in dist_S] #calculate the corresponding estimate for p_i\n",
    "        dist = [max(x,0) for x in dist] #map it to be positive\n",
    "        norm = sum(dist)\n",
    "        dist = [x/norm for x in dist] #ensure the l_1 norm is one\n",
    "        return dist"
   ]
  },
  {
   "cell_type": "code",
   "execution_count": 2,
   "metadata": {
    "collapsed": false
   },
   "outputs": [],
   "source": [
    "#The Hadamard randomized response for all regimes\n",
    "class Hadamard_Rand_2:\n",
    "    def __init__(self, absz, pri_para): # absz: alphabet size, pri_para: privacy parameter\n",
    "        self.insz = absz #input alphabet size k\n",
    "        #self.outsz = int(math.pow(2,math.ceil(math.log(absz+1,2)))) #output alphabet size: smallest exponent of 2 which is bigger than k\n",
    "        #self.outbit = int(math.ceil(math.log(absz+1,2))) #output bit length\n",
    "        self.pri_para = 1/(1+math.exp(pri_para)) #flipping probability to maintain local privacy\n",
    "        self.exp = math.exp(pri_para) #privacy parameter\n",
    "        self.initbit = int(math.ceil(math.log(self.exp,2))) # number of bits indicating the block number \n",
    "        self.part = int(math.pow(2,self.initbit)) #number of blocks B\n",
    "        self.tailbit = int(math.ceil(math.log(float(self.insz)/float(self.part)+1,2))) #number of bits indicating the location within a block\n",
    "        self.partsz = int(math.pow(2,self.tailbit)) # size of each block b\n",
    "        self.outbit = self.tailbit + self.initbit #total number of output bits\n",
    "        self.outsz = int(math.pow(2,self.outbit)) # output alphabet size K\n",
    "\n",
    "    def entry_check(self,x,y): #check if the reduced hadamard entry is one (return 0 for 1)\n",
    "        x_bit = bin(x)[2:].zfill(self.outbit)\n",
    "        y_bit = bin(y)[2:].zfill(self.outbit)\n",
    "        for i in range(0,self.initbit): # check if they are in the same block, if not, return -1\n",
    "            if x_bit[i] != y_bit[i]:\n",
    "                return 1\n",
    "        check = 0\n",
    "        for i in range(self.initbit, self.outbit): #check whether the entry is one within the block\n",
    "            check = check^(int(x_bit[i])&int(y_bit[i]))\n",
    "        return check\n",
    "                                  \n",
    "    def encode_symbol(self,ori):  # encode a single symbol into a privatized version \n",
    "        # we use coupling argument to do this\n",
    "        ori1 = int(ori)//(self.partsz-1)*self.partsz + int(ori)%(self.partsz-1)+1 #map the input x to the xth column with weight b/2 \n",
    "        bitin = bin(int(ori1))[2:].zfill(self.outbit)\n",
    "        out1 = random.randint(0,self.outsz-1) #get a random number out1 in the output alphabet as a potential output\n",
    "        ra = random.random()\n",
    "        if ra < (2*self.part)/(2*self.part-1+self.exp): #with certain prob, output the same symbol as uniform distribution\n",
    "            return out1\n",
    "        else:\n",
    "            out1 = out1%self.partsz + self.partsz*(ori1//self.partsz) # map out1 to the same block as ori1 while maintain the location within the block\n",
    "            if self.entry_check(ori1,out1) == 0: #if location (ori1, out1) is one, output out1\n",
    "                return out1\n",
    "            else: #else flip bit at the left most location where bit representation of ori1 is one \n",
    "                for i in range(self.initbit, self.outbit): \n",
    "                    if int(bitin[i]) == 1:\n",
    "                        out1 = out1 ^ (pow(2,self.outbit - i -1))\n",
    "                        break\n",
    "                return out1\n",
    "     \n",
    "    def encode_string(self,in_list):  # encode string into a privatized string\n",
    "        out_list = [a.encode_symbol(x) for x in in_list]\n",
    "        return out_list\n",
    "    \n",
    "    def decode_string(self, out_list): # get the privatized string and learn the original distribution\n",
    "        l = len(out_list)\n",
    "        num = [0]*self.insz\n",
    "        count = [0]*self.outsz\n",
    "        for x in out_list: # count the number of appearances of each output symbol\n",
    "            count[x] = count[x] + 1\n",
    "            \n",
    "        count_block = [0]*self.part # count the number of appearances of each block\n",
    "        for i in range(0,self.part): \n",
    "            for j in range(0,self.partsz):\n",
    "                count_block[i] = count_block[i] + count[i*self.partsz+j]\n",
    "        \n",
    "        freq_block = [float(x)/float(l) for x in count_block] # calculate the frequency of each block\n",
    "        dist_block = [((2*self.part-1+self.exp)*x-2)/(self.exp-1) for x in freq_block] # calculate the estimated original prob of each block\n",
    "        \n",
    "        for x in range(0,self.outsz): # count the number of appearances of each C_i\n",
    "            #print x\n",
    "            for i in range(0, self.insz): \n",
    "                ti = int(i)//(self.partsz-1)*self.partsz + int(i)%(self.partsz-1)+1\n",
    "                if self.entry_check(ti,x) == 0:\n",
    "                    num[i] = num[i] + count[x]\n",
    "    \n",
    "        dist_S = [float(x)/float(l) for x in num] #calculate the frequency of each C_i\n",
    "        dist_inter = [2*(x*(2*self.part-1+self.exp)-1)/(self.exp-1) for x in dist_S] # calculate intermediate prob\n",
    "        dist = [dist_inter[i] - dist_block[i//(self.partsz-1)] for i in range(0,self.insz)] # calculate the estimated prob for each symbol\n",
    "        dist = [max(x,0) for x in dist] #map it to be positive\n",
    "        norm = sum(dist)\n",
    "        dist = [x/norm for x in dist] #ensure the l_1 norm is one\n",
    "        return dist"
   ]
  },
  {
   "cell_type": "code",
   "execution_count": 3,
   "metadata": {
    "collapsed": false
   },
   "outputs": [
    {
     "name": "stdout",
     "output_type": "stream",
     "text": [
      "('l1 distance: ', '0.203141375149')\n",
      "('prob_sum: ', '1.0')\n"
     ]
    },
    {
     "data": {
      "image/png": "[encoded data removed]",
      "text/plain": [
       "<matplotlib.figure.Figure at 0x104ae5e10>"
      ]
     },
     "metadata": {},
     "output_type": "display_data"
    }
   ],
   "source": [
    "k = 100 #absz\n",
    "elements = range(0,k) #ab\n",
    "lbd = 0.8 #parameter for geometric dist\n",
    "eps = 1 # privacy_para\n",
    "prob = [(1-lbd)*math.pow(lbd,x)/(1-math.pow(lbd,k)) for x in elements] # geometric dist\n",
    "#prob = [1/float(k)] * k\n",
    "in_list = np.random.choice(elements, 1000000, p=prob) #input symbols\n",
    "a = Hadamard_Rand_2(k,eps) \n",
    "#print (a.partsz)\n",
    "#print (elements.type)\n",
    "# print(type(in_list[9]))\n",
    "outp = a.encode_string(in_list)\n",
    "#print outp\n",
    "prob_est = a.decode_string(outp) # estimate the original underlying distribution\n",
    "plt.plot(elements,prob)\n",
    "plt.plot(elements,prob_est)\n",
    "#plt.plot(prob_est)\n",
    "print (\"l1 distance: \", str(np.linalg.norm([a_i - b_i for a_i, b_i in zip(prob, prob_est)], ord=1)))\n",
    "print (\"prob_sum: \", str(sum(prob_est)))"
   ]
  },
  {
   "cell_type": "code",
   "execution_count": 4,
   "metadata": {
    "collapsed": false,
    "scrolled": false
   },
   "outputs": [
    {
     "name": "stdout",
     "output_type": "stream",
     "text": [
      "l1 distance0.165137187514\n",
      "prob_sum1.0\n"
     ]
    },
    {
     "data": {
      "image/png": "[encoded data removed]",
      "text/plain": [
       "<matplotlib.figure.Figure at 0x104ae5ed0>"
      ]
     },
     "metadata": {},
     "output_type": "display_data"
    }
   ],
   "source": [
    "# test file\n",
    "k = 100 #absz\n",
    "elements = range(0,k) #ab\n",
    "lbd = 0.8 #parameter for geometric dist\n",
    "eps = 1 # privacy_para\n",
    "prob = [(1-lbd)*math.pow(lbd,x)/(1-math.pow(lbd,k)) for x in elements] # geometric dist\n",
    "#prob = [1/float(k)] * k\n",
    "in_list = np.random.choice(elements, 1000000, p=prob) #input symbols\n",
    "a = Hadamard_Rand_1(k,eps) # define the private channel\n",
    "outp = a.encode_string(in_list) # get the output string\n",
    "prob_est = a.decode_string(outp) # estimate the original underlining distribution\n",
    "plt.plot(elements,prob)\n",
    "plt.plot(elements,prob_est)\n",
    "print 'l1 distance' + str(np.linalg.norm([a_i - b_i for a_i, b_i in zip(prob, prob_est)], ord=1))\n",
    "print 'prob_sum' + str(sum(prob_est))"
   ]
  },
  {
   "cell_type": "code",
   "execution_count": null,
   "metadata": {
    "collapsed": false
   },
   "outputs": [],
   "source": [
    "k = 100 #absz\n",
    "elements = range(0,k) #ab\n",
    "lbd = 0.8 #parameter for geometric dist\n",
    "eps = 1 # privacy_para\n",
    "#prob = [(1-lbd)*math.pow(lbd,x)/(1-math.pow(lbd,k)) for x in elements] # geometric dist\n",
    "prob = [1/float(k)] * k\n",
    "#in_list = np.random.choice(elements, 100000, p=prob) #input symbols\n",
    "n = 1\n",
    "in_list = [n]*100000\n",
    "outp = a.encode_string(in_list)\n",
    "count = [0]*a.outsz\n",
    "for x in outp:\n",
    "    count[x] = count[x] + 1\n",
    "plt.plot(count)\n",
    "\n",
    "a = Hadamard_Rand_2(k,eps) \n",
    "x = random.randint(0,a.outsz-1)\n",
    "y = random.randint(0,a.outsz-1)\n",
    "x_bit = bin(int(x))[2:].zfill(a.outbit)\n",
    "y_bit = bin(int(y))[2:].zfill(a.outbit)\n",
    "print a.initbit\n",
    "print a.tailbit\n",
    "print 'x:' + x_bit\n",
    "print 'y:' + y_bit\n",
    "print a.entry_check(x,y)\n",
    "print a.partsz\n",
    "print int(n)/(a.partsz-1)*a.partsz + int(n)%(a.partsz-1)+1"
   ]
  }
 ],
 "metadata": {
  "anaconda-cloud": {},
  "kernelspec": {
   "display_name": "Python [Root]",
   "language": "python",
   "name": "Python [Root]"
  },
  "language_info": {
   "codemirror_mode": {
    "name": "ipython",
    "version": 2
   },
   "file_extension": ".py",
   "mimetype": "text/x-python",
   "name": "python",
   "nbconvert_exporter": "python",
   "pygments_lexer": "ipython2",
   "version": "2.7.12"
  }
 },
 "nbformat": 4,
 "nbformat_minor": 0
}
